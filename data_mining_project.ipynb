{
  "nbformat": 4,
  "nbformat_minor": 0,
  "metadata": {
    "colab": {
      "provenance": [],
      "authorship_tag": "ABX9TyMZ8VmcTpXn276O7JIahyuJ",
      "include_colab_link": true
    },
    "kernelspec": {
      "name": "python3",
      "display_name": "Python 3"
    },
    "language_info": {
      "name": "python"
    }
  },
  "cells": [
    {
      "cell_type": "markdown",
      "metadata": {
        "id": "view-in-github",
        "colab_type": "text"
      },
      "source": [
        "<a href=\"https://colab.research.google.com/github/alex-bolshunov/Data_mining_project/blob/expan1/data_mining_project.ipynb\" target=\"_parent\"><img src=\"https://colab.research.google.com/assets/colab-badge.svg\" alt=\"Open In Colab\"/></a>"
      ]
    },
    {
      "cell_type": "code",
      "execution_count": null,
      "metadata": {
        "id": "ipBwWbpcKqmT"
      },
      "outputs": [],
      "source": [
        "#columns: npi, gender, state, dredentials, speciality, opiods, non opiods, risk skale (overdose / population) ?\n",
        "#https://www.kaggle.com/datasets/apryor6/us-opiate-prescriptions/data?select=overdoses.csv"
      ]
    }
  ]
}